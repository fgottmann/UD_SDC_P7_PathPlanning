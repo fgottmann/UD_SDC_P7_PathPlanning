{
 "cells": [
  {
   "cell_type": "markdown",
   "metadata": {},
   "source": [
    "# Writeup\n",
    "## Project: Highway Driving / Path Planning\n",
    "\n",
    "### 1. Compilation\n",
    "The code compiles correctly. Just execute following in the project folder. \n",
    "```\n",
    "mkdir build && cd build\n",
    "cmake .. && make\n",
    "./path_planning\n",
    "```\n",
    "\n",
    "### 2. Valid Trajectories \n",
    "The car is able to drive at least 4.32 miles without incident, at least if non of the other car's makes a critical driving mistake such as, tough some evasive maneuver has been successful it would certainly violate the jerk limitations: (click on the video below)\n",
    "\n",
    "[![Crash by NPC](doc/intended_crash.png)](doc/intended_crash.mp4)\n",
    "\n",
    "The car drives according to the speed limit and the maximum acceleration and jerk are not exceeded most the time. Car does not have collisions, except it can't avoid it because they are caused by the other vehicles. The car stays in its lane, except for the time between changing lanes and thereby is able to change lanes. The lane change algorithm is pretty conservative but relies heavily on constant velocity profiles. As some vehicles randomly decelerate, sometimes issues occur if the vehicle at the target decelerates spontantously.\n",
    "\n",
    "As everything works normal especially the other vehicle the algorithm is capable driving a very long distance:\n",
    "\n",
    "![Result](doc/success.png)\n",
    "\n",
    "### 3. Model Description\n",
    "\n",
    "The algorithm consists of three essentials parts. The first part is sensor fusion, which predicts and calculates relevant objects for the scenario. These are passed to the second part, the behavior planning. In the behaviorplanning it's validated if a lane change is neccessary and possible given on the sensor fusion data. The target lane is then commanded to the trajectory generation. It's main task is to generate a feasible trajectory by filtering the waypoints and adapting their position and contour to the target lane. Additionally a longituindal trajectory is calculated based on the vehicle predictions.\n",
    "\n",
    "#### Sensor Fusion\n",
    "\n",
    "#### Behavior Planning\n",
    "\n",
    "#### Trajectory Planning\n",
    "\n",
    "### 4. Reflection\n",
    "\n",
    "\n"
   ]
  },
  {
   "cell_type": "code",
   "execution_count": null,
   "metadata": {},
   "outputs": [],
   "source": []
  }
 ],
 "metadata": {
  "kernelspec": {
   "display_name": "Python 3",
   "language": "python",
   "name": "python3"
  },
  "language_info": {
   "codemirror_mode": {
    "name": "ipython",
    "version": 3
   },
   "file_extension": ".py",
   "mimetype": "text/x-python",
   "name": "python",
   "nbconvert_exporter": "python",
   "pygments_lexer": "ipython3",
   "version": "3.5.2"
  }
 },
 "nbformat": 4,
 "nbformat_minor": 4
}
